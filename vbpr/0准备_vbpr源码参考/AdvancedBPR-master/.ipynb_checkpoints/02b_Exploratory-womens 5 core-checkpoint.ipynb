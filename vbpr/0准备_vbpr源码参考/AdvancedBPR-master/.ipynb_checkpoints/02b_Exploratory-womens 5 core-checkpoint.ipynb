{
 "cells": [
  {
   "cell_type": "markdown",
   "metadata": {},
   "source": [
    "# Exploratory analysis\n",
    "\n",
    "1. This workbook covers some basic exploratory analyses to understand the data better\n",
    "2. Both Review data and Product (meta data) have been analyzed here\n",
    "3. Image data has not been analyzed"
   ]
  },
  {
   "cell_type": "code",
   "execution_count": 1,
   "metadata": {
    "collapsed": true
   },
   "outputs": [],
   "source": [
    "import pandas as pd\n",
    "import gzip\n",
    "\n",
    "# Reading the review\n",
    "def parse(path):\n",
    "    g = gzip.open(path, 'rb')\n",
    "    for l in g:\n",
    "        yield eval(l)\n",
    "\n",
    "def getDF(path):\n",
    "    i = 0\n",
    "    df = {}\n",
    "    for d in parse(path):\n",
    "        df[i] = d\n",
    "        i += 1\n",
    "    return pd.DataFrame.from_dict(df, orient='index')"
   ]
  },
  {
   "cell_type": "code",
   "execution_count": 2,
   "metadata": {
    "collapsed": true
   },
   "outputs": [],
   "source": [
    "# # Reading the image features\n",
    "# import struct\n",
    "\n",
    "# def readImageFeatures(path):\n",
    "#     f = open(path, 'rb')\n",
    "#     while True:\n",
    "#         asin = f.read(10)\n",
    "#         if asin == '': break\n",
    "#         feature = []\n",
    "#         for i in range(4096):\n",
    "#             feature.append(struct.unpack('f', f.read(4)))\n",
    "#         yield asin, feature"
   ]
  },
  {
   "cell_type": "code",
   "execution_count": 3,
   "metadata": {},
   "outputs": [
    {
     "name": "stdout",
     "output_type": "stream",
     "text": [
      "/Users/Deepthi/Documents/DSE/Capstone/Data/From Julius\n"
     ]
    }
   ],
   "source": [
    "%cd /Users/Deepthi/Documents/DSE/Capstone/Data/From Julius"
   ]
  },
  {
   "cell_type": "code",
   "execution_count": 4,
   "metadata": {},
   "outputs": [
    {
     "name": "stdout",
     "output_type": "stream",
     "text": [
      "cell5.hd5\r\n",
      "cleaned.hd5\r\n",
      "cleaned.hd5.zip\r\n",
      "image_features_Clothing_Shoes_and_Jewelry.b\r\n",
      "meta_Clothing_Shoes_and_Jewelry.json.gz\r\n",
      "ratings_Clothing_Shoes_and_Jewelry.csv\r\n",
      "review_Women.csv\r\n",
      "review_Women.csv.gz\r\n",
      "review_women_brand_updated.csv\r\n",
      "review_women_brnd_fv_prce_updated.csv\r\n",
      "review_women_brnd_fv_updated.csv\r\n",
      "review_women_brnd_fv_updated_2.csv\r\n",
      "review_women_brnd_fv_updated_3.csv\r\n",
      "reviews_Cell_Phones_and_Accessories_5_scraped.csv\r\n",
      "reviews_Cell_Phones_and_Accessories_5_scraped.csv.gz\r\n",
      "reviews_Clothing_Shoes_and_Jewelry.json.gz\r\n",
      "reviews_Clothing_Shoes_and_Jewelry_5.json.gz\r\n",
      "reviews_Women_ALL_scraped.csv\r\n",
      "reviews_Women_ALL_scraped.csv.gz\r\n",
      "reviews_Women_scraped.csv.gz\r\n",
      "reviews_Women_scraped_cpp.csv\r\n",
      "reviews_Women_scraped_cpp.csv.gz\r\n",
      "reviews_Women_scraped_cpp_fv_2.csv\r\n",
      "reviews_Women_scraped_cpp_fv_2.csv.zip\r\n",
      "reviews_Women_scraped_cpp_fv_all.csv\r\n",
      "reviews_Women_scraped_cpp_fv_all.csv.zip\r\n",
      "reviews_cellphone_scraped_cpp_fv_2.csv\r\n",
      "reviews_cellphone_scraped_cpp_fv_2.csv.zip\r\n",
      "tfidf_score.csv\r\n"
     ]
    }
   ],
   "source": [
    "!ls"
   ]
  },
  {
   "cell_type": "code",
   "execution_count": 6,
   "metadata": {},
   "outputs": [],
   "source": [
    "df_meta = pd.read_hdf('cleaned.hd5', key='womens')"
   ]
  },
  {
   "cell_type": "code",
   "execution_count": 8,
   "metadata": {},
   "outputs": [],
   "source": [
    "# df_review = getDF('reviews_Women_scraped_cpp_fv_2.json.gz')\n",
    "df_review = pd.read_csv('reviews_Women_scraped_cpp_fv_2.csv')"
   ]
  },
  {
   "cell_type": "code",
   "execution_count": 9,
   "metadata": {
    "collapsed": true
   },
   "outputs": [],
   "source": [
    "# df_image = readImageFeatures('image_features_Clothing_Shoes_and_Jewelry.b')"
   ]
  },
  {
   "cell_type": "code",
   "execution_count": 10,
   "metadata": {},
   "outputs": [],
   "source": [
    "# df_image.next()"
   ]
  },
  {
   "cell_type": "code",
   "execution_count": 11,
   "metadata": {},
   "outputs": [],
   "source": [
    "import matplotlib.pyplot as plt\n",
    "%matplotlib inline"
   ]
  },
  {
   "cell_type": "markdown",
   "metadata": {},
   "source": [
    "### Analyze customers"
   ]
  },
  {
   "cell_type": "code",
   "execution_count": 18,
   "metadata": {},
   "outputs": [
    {
     "name": "stderr",
     "output_type": "stream",
     "text": [
      "/Users/Deepthi/anaconda/lib/python2.7/site-packages/ipykernel/__main__.py:9: MatplotlibDeprecationWarning: The set_axis_bgcolor function was deprecated in version 2.0. Use set_facecolor instead.\n"
     ]
    },
    {
     "data": {
      "image/png": "[encoded data removed]",
      "text/plain": [
       "<matplotlib.figure.Figure at 0x1e073fe50>"
      ]
     },
     "metadata": {},
     "output_type": "display_data"
    }
   ],
   "source": [
    "## Number of reviews by each customer\n",
    "## This histogram shows that most customers write 5 reviews\n",
    "\n",
    "# df_review.groupby(['reviewerID']).asin.nunique().reset_index()['asin'].hist(bins=range(5,25,1))\n",
    "\n",
    "ax = df_review.groupby(['reviewerID']).asin.nunique().reset_index()['asin'].plot(kind = 'hist',bins =range(5,22,1),\\\n",
    "                                                                                 title = 'Distribution of #reviews by each customer (5-core)'\\\n",
    "                                                                                ,facecolor='#80cbc4',edgecolor='black')\n",
    "ax.set_xlabel('# number of reviews')\n",
    "ax.set_ylabel('# number of customers')\n",
    "ax.set_axis_bgcolor('#fffbf0')\n",
    "plt.show()"
   ]
  },
  {
   "cell_type": "code",
   "execution_count": 11,
   "metadata": {},
   "outputs": [],
   "source": [
    "## To plot the same distribution as %\n",
    "df = df_review.groupby(['reviewerID']).asin.nunique().reset_index()\n",
    "# df2= df.groupby(['asin']).count('asin').reset_index().sort('reviewerID',ascending = False)\n",
    "\n",
    "df2= df.groupby(['asin']).reviewerID.nunique().reset_index().sort('reviewerID',ascending = False)"
   ]
  },
  {
   "cell_type": "code",
   "execution_count": 12,
   "metadata": {
    "collapsed": true
   },
   "outputs": [],
   "source": [
    "def flag(row):\n",
    "        if row['asin'] == 5 :\n",
    "            return '05'\n",
    "        if row['asin'] == 6 :\n",
    "            return '06'\n",
    "        if row['asin'] == 7 :\n",
    "            return '07'\n",
    "        if row['asin'] == 8 :\n",
    "            return '08'\n",
    "        if row['asin'] == 9 :\n",
    "            return '09'\n",
    "        if row['asin'] == 10 :\n",
    "            return '10'\n",
    "        if row['asin'] > 10 :\n",
    "            return '>10'"
   ]
  },
  {
   "cell_type": "code",
   "execution_count": 13,
   "metadata": {},
   "outputs": [],
   "source": [
    "df2['flag']=df2.apply(lambda row: flag(row),axis=1)\n",
    "df3 = df2.groupby(['flag']).reviewerID.sum().reset_index()"
   ]
  },
  {
   "cell_type": "code",
   "execution_count": 14,
   "metadata": {},
   "outputs": [],
   "source": [
    "df3['pct'] = df3['reviewerID']/(df3['reviewerID'].sum())*100"
   ]
  },
  {
   "cell_type": "code",
   "execution_count": 15,
   "metadata": {},
   "outputs": [
    {
     "data": {
      "image/png": "[encoded data removed]",
      "text/plain": [
       "<matplotlib.figure.Figure at 0x1290eeb50>"
      ]
     },
     "metadata": {},
     "output_type": "display_data"
    }
   ],
   "source": [
    "ax = df3.sort('flag',ascending=True).plot(kind='bar',x = 'flag',y='pct', color ='#80cbc4',\\\n",
    "                                     title='%customers by number of reviews'\\\n",
    "                                     ,legend = False)\n",
    "ax.set_xlabel('# reviews')\n",
    "ax.set_ylabel('% customers')\n",
    "ax.set_axis_bgcolor('#fffbf0')\n",
    "plt.show()\n",
    "\n",
    "## This graph says that 40% of the customers write 5 reviews \n",
    "## 75% of the reviews are written by customers writing upto 7 reviews"
   ]
  },
  {
   "cell_type": "markdown",
   "metadata": {},
   "source": [
    "### Helpful ratings"
   ]
  },
  {
   "cell_type": "code",
   "execution_count": 16,
   "metadata": {},
   "outputs": [],
   "source": [
    "helpful = df_review['helpful']"
   ]
  },
  {
   "cell_type": "code",
   "execution_count": 17,
   "metadata": {},
   "outputs": [],
   "source": [
    "yes=[]\n",
    "no=[]\n",
    "for i in range(len(df_review['helpful'])):\n",
    "    x = df_review['helpful'][i][0]\n",
    "    yes.append(x)\n",
    "    y = df_review['helpful'][i][1]\n",
    "    no.append(y)"
   ]
  },
  {
   "cell_type": "code",
   "execution_count": 18,
   "metadata": {},
   "outputs": [],
   "source": [
    "df_review['helpful_yes']=yes\n",
    "df_review['helpful_no']=no"
   ]
  },
  {
   "cell_type": "code",
   "execution_count": 19,
   "metadata": {},
   "outputs": [],
   "source": [
    "helpful_review = df_review[['overall','helpful_yes','helpful_no']].groupby('overall').sum().reset_index()"
   ]
  },
  {
   "cell_type": "code",
   "execution_count": 20,
   "metadata": {},
   "outputs": [],
   "source": [
    "helpful_review['yes_pct'] = helpful_review['helpful_yes']*100/(helpful_review['helpful_yes']+ helpful_review['helpful_no'])\n",
    "helpful_review['no_pct'] = helpful_review['helpful_no']*100/(helpful_review['helpful_yes']+ helpful_review['helpful_no'])"
   ]
  },
  {
   "cell_type": "code",
   "execution_count": 21,
   "metadata": {},
   "outputs": [
    {
     "data": {
      "text/html": [
       "<div>\n",
       "<table border=\"1\" class=\"dataframe\">\n",
       "  <thead>\n",
       "    <tr style=\"text-align: right;\">\n",
       "      <th></th>\n",
       "      <th>overall</th>\n",
       "      <th>helpful_yes</th>\n",
       "      <th>helpful_no</th>\n",
       "      <th>yes_pct</th>\n",
       "      <th>no_pct</th>\n",
       "    </tr>\n",
       "  </thead>\n",
       "  <tbody>\n",
       "    <tr>\n",
       "      <th>0</th>\n",
       "      <td>1</td>\n",
       "      <td>20288</td>\n",
       "      <td>29251</td>\n",
       "      <td>40.953592</td>\n",
       "      <td>59.046408</td>\n",
       "    </tr>\n",
       "    <tr>\n",
       "      <th>1</th>\n",
       "      <td>2</td>\n",
       "      <td>19916</td>\n",
       "      <td>25947</td>\n",
       "      <td>43.424983</td>\n",
       "      <td>56.575017</td>\n",
       "    </tr>\n",
       "    <tr>\n",
       "      <th>2</th>\n",
       "      <td>3</td>\n",
       "      <td>34551</td>\n",
       "      <td>42719</td>\n",
       "      <td>44.714637</td>\n",
       "      <td>55.285363</td>\n",
       "    </tr>\n",
       "    <tr>\n",
       "      <th>3</th>\n",
       "      <td>4</td>\n",
       "      <td>60848</td>\n",
       "      <td>70105</td>\n",
       "      <td>46.465526</td>\n",
       "      <td>53.534474</td>\n",
       "    </tr>\n",
       "    <tr>\n",
       "      <th>4</th>\n",
       "      <td>5</td>\n",
       "      <td>183743</td>\n",
       "      <td>206687</td>\n",
       "      <td>47.061701</td>\n",
       "      <td>52.938299</td>\n",
       "    </tr>\n",
       "  </tbody>\n",
       "</table>\n",
       "</div>"
      ],
      "text/plain": [
       "   overall  helpful_yes  helpful_no    yes_pct     no_pct\n",
       "0        1        20288       29251  40.953592  59.046408\n",
       "1        2        19916       25947  43.424983  56.575017\n",
       "2        3        34551       42719  44.714637  55.285363\n",
       "3        4        60848       70105  46.465526  53.534474\n",
       "4        5       183743      206687  47.061701  52.938299"
      ]
     },
     "execution_count": 21,
     "metadata": {},
     "output_type": "execute_result"
    }
   ],
   "source": [
    "helpful_review\n",
    "## Higher tendency to click 'no' when not helpful than clicking 'yes' when helpful"
   ]
  },
  {
   "cell_type": "code",
   "execution_count": 22,
   "metadata": {},
   "outputs": [
    {
     "data": {
      "text/plain": [
       "<matplotlib.legend.Legend at 0x12911c990>"
      ]
     },
     "execution_count": 22,
     "metadata": {},
     "output_type": "execute_result"
    },
    {
     "data": {
      "image/png": "[encoded data removed]",
      "text/plain": [
       "<matplotlib.figure.Figure at 0x21c0aff10>"
      ]
     },
     "metadata": {},
     "output_type": "display_data"
    }
   ],
   "source": [
    "ax = helpful_review[['overall','yes_pct','no_pct']].plot(kind = 'bar', x = 'overall', title = 'Helpfulness Rating'\\\n",
    "                                                        ,color =['#00695c','#af4345'])\n",
    "                                                        \n",
    "\n",
    "\n",
    "ax.set_xlabel('Overall Ratings')\n",
    "ax.set_ylabel('% Helpful - Yes/No ')\n",
    "ax.set_axis_bgcolor('#fffbf0')\n",
    "ax.legend(('%Yes','%No'),loc=4)"
   ]
  },
  {
   "cell_type": "markdown",
   "metadata": {},
   "source": [
    "### Overall Ratings"
   ]
  },
  {
   "cell_type": "code",
   "execution_count": 23,
   "metadata": {},
   "outputs": [],
   "source": [
    "overall_ratings = df_review[['reviewerID','asin','overall']].drop_duplicates().groupby(['overall']).reviewerID\\\n",
    "                  .nunique().reset_index()"
   ]
  },
  {
   "cell_type": "code",
   "execution_count": 24,
   "metadata": {},
   "outputs": [],
   "source": [
    "total_cust_ratings = overall_ratings['reviewerID'].sum()"
   ]
  },
  {
   "cell_type": "code",
   "execution_count": 25,
   "metadata": {
    "collapsed": true
   },
   "outputs": [],
   "source": [
    "overall_ratings['num_cust_ratings_pct'] = overall_ratings['reviewerID']*100/total_cust_ratings"
   ]
  },
  {
   "cell_type": "code",
   "execution_count": 26,
   "metadata": {},
   "outputs": [
    {
     "data": {
      "text/html": [
       "<div>\n",
       "<table border=\"1\" class=\"dataframe\">\n",
       "  <thead>\n",
       "    <tr style=\"text-align: right;\">\n",
       "      <th></th>\n",
       "      <th>overall</th>\n",
       "      <th>reviewerID</th>\n",
       "      <th>num_cust_ratings_pct</th>\n",
       "    </tr>\n",
       "  </thead>\n",
       "  <tbody>\n",
       "    <tr>\n",
       "      <th>0</th>\n",
       "      <td>1</td>\n",
       "      <td>8025</td>\n",
       "      <td>7.790808</td>\n",
       "    </tr>\n",
       "    <tr>\n",
       "      <th>1</th>\n",
       "      <td>2</td>\n",
       "      <td>11214</td>\n",
       "      <td>10.886744</td>\n",
       "    </tr>\n",
       "    <tr>\n",
       "      <th>2</th>\n",
       "      <td>3</td>\n",
       "      <td>19056</td>\n",
       "      <td>18.499893</td>\n",
       "    </tr>\n",
       "    <tr>\n",
       "      <th>3</th>\n",
       "      <td>4</td>\n",
       "      <td>26930</td>\n",
       "      <td>26.144108</td>\n",
       "    </tr>\n",
       "    <tr>\n",
       "      <th>4</th>\n",
       "      <td>5</td>\n",
       "      <td>37781</td>\n",
       "      <td>36.678446</td>\n",
       "    </tr>\n",
       "  </tbody>\n",
       "</table>\n",
       "</div>"
      ],
      "text/plain": [
       "   overall  reviewerID  num_cust_ratings_pct\n",
       "0        1        8025              7.790808\n",
       "1        2       11214             10.886744\n",
       "2        3       19056             18.499893\n",
       "3        4       26930             26.144108\n",
       "4        5       37781             36.678446"
      ]
     },
     "execution_count": 26,
     "metadata": {},
     "output_type": "execute_result"
    }
   ],
   "source": [
    "overall_ratings\n",
    "## People tend to write a review only if they like the product\n",
    "## I expected them to write a review if they hate it as well"
   ]
  },
  {
   "cell_type": "code",
   "execution_count": 27,
   "metadata": {},
   "outputs": [
    {
     "data": {
      "image/png": "[encoded data removed]",
      "text/plain": [
       "<matplotlib.figure.Figure at 0x128eb5e90>"
      ]
     },
     "metadata": {},
     "output_type": "display_data"
    }
   ],
   "source": [
    "ax = overall_ratings.plot(kind = 'bar', x = 'overall',y='num_cust_ratings_pct', title = 'Overall Rating'\\\n",
    "                                                        ,color =['#26a69a'], legend = False)\n",
    "                                                        \n",
    "\n",
    "\n",
    "ax.set_xlabel('Overall Ratings')\n",
    "ax.set_ylabel('% customers ')\n",
    "ax.set_axis_bgcolor('#fffbf0')"
   ]
  },
  {
   "cell_type": "markdown",
   "metadata": {},
   "source": [
    "### Reviews by time"
   ]
  },
  {
   "cell_type": "code",
   "execution_count": 28,
   "metadata": {},
   "outputs": [],
   "source": [
    "df_review.groupby(['reviewTime','overall']).reviewerID.count().reset_index().to_csv('time_plot.csv')"
   ]
  },
  {
   "cell_type": "code",
   "execution_count": 29,
   "metadata": {},
   "outputs": [],
   "source": [
    "reviews_by_time = df_review.groupby(['reviewTime']).reviewerID.count().reset_index()"
   ]
  },
  {
   "cell_type": "code",
   "execution_count": 30,
   "metadata": {},
   "outputs": [],
   "source": [
    "reviews_by_time['year'] = reviews_by_time.reviewTime.apply(lambda x: x[6:]).str.strip()\n",
    "reviews_by_time['month'] = reviews_by_time.reviewTime.apply(lambda x: x[0:2]).str.strip()"
   ]
  },
  {
   "cell_type": "code",
   "execution_count": 31,
   "metadata": {},
   "outputs": [
    {
     "data": {
      "image/png": "[encoded data removed]",
      "text/plain": [
       "<matplotlib.figure.Figure at 0x21c09ce10>"
      ]
     },
     "metadata": {},
     "output_type": "display_data"
    }
   ],
   "source": [
    "ax = reviews_by_time.groupby('year').reviewerID.sum().reset_index().plot(x='year',y='reviewerID', color='#00695c',\\\n",
    "                                                                         legend = False, title = '#Reviews over time')\n",
    "\n",
    "ax.set_xlabel('Year')\n",
    "ax.set_ylabel('# Ratings')\n",
    "ax.set_axis_bgcolor('#fffbf0')\n",
    "\n",
    "## Huge increase in reviews since 2011"
   ]
  },
  {
   "cell_type": "code",
   "execution_count": 32,
   "metadata": {},
   "outputs": [],
   "source": [
    "reviews_by_time1= reviews_by_time[reviews_by_time['year']>'2011']"
   ]
  },
  {
   "cell_type": "code",
   "execution_count": 33,
   "metadata": {},
   "outputs": [
    {
     "data": {
      "image/png": "[encoded data removed]",
      "text/plain": [
       "<matplotlib.figure.Figure at 0x128e99cd0>"
      ]
     },
     "metadata": {},
     "output_type": "display_data"
    }
   ],
   "source": [
    "ax = reviews_by_time1[(reviews_by_time1['year']<>'2014')].groupby(['month']).reviewerID.mean().reset_index().\\\n",
    "plot(x='month',y='reviewerID', legend = False, title = 'Avg. number of Ratings by month-(2011 to 2013)',color='#00695c')\n",
    "\n",
    "\n",
    "ax.set_xlabel('Month')\n",
    "ax.set_ylabel('Avg. number of Ratings')\n",
    "ax.set_axis_bgcolor('#fffbf0')\n",
    "## Highest number of reviews during holiday season"
   ]
  },
  {
   "cell_type": "code",
   "execution_count": 34,
   "metadata": {},
   "outputs": [
    {
     "data": {
      "text/html": [
       "<div>\n",
       "<table border=\"1\" class=\"dataframe\">\n",
       "  <thead>\n",
       "    <tr style=\"text-align: right;\">\n",
       "      <th></th>\n",
       "      <th>year</th>\n",
       "      <th>month</th>\n",
       "      <th>reviewerID</th>\n",
       "    </tr>\n",
       "  </thead>\n",
       "  <tbody>\n",
       "    <tr>\n",
       "      <th>0</th>\n",
       "      <td>2003</td>\n",
       "      <td>03</td>\n",
       "      <td>1</td>\n",
       "    </tr>\n",
       "    <tr>\n",
       "      <th>1</th>\n",
       "      <td>2003</td>\n",
       "      <td>12</td>\n",
       "      <td>1</td>\n",
       "    </tr>\n",
       "    <tr>\n",
       "      <th>2</th>\n",
       "      <td>2004</td>\n",
       "      <td>07</td>\n",
       "      <td>1</td>\n",
       "    </tr>\n",
       "    <tr>\n",
       "      <th>3</th>\n",
       "      <td>2004</td>\n",
       "      <td>09</td>\n",
       "      <td>3</td>\n",
       "    </tr>\n",
       "    <tr>\n",
       "      <th>4</th>\n",
       "      <td>2004</td>\n",
       "      <td>12</td>\n",
       "      <td>2</td>\n",
       "    </tr>\n",
       "    <tr>\n",
       "      <th>5</th>\n",
       "      <td>2005</td>\n",
       "      <td>03</td>\n",
       "      <td>1</td>\n",
       "    </tr>\n",
       "    <tr>\n",
       "      <th>6</th>\n",
       "      <td>2005</td>\n",
       "      <td>04</td>\n",
       "      <td>2</td>\n",
       "    </tr>\n",
       "    <tr>\n",
       "      <th>7</th>\n",
       "      <td>2005</td>\n",
       "      <td>05</td>\n",
       "      <td>1</td>\n",
       "    </tr>\n",
       "    <tr>\n",
       "      <th>8</th>\n",
       "      <td>2005</td>\n",
       "      <td>06</td>\n",
       "      <td>1</td>\n",
       "    </tr>\n",
       "    <tr>\n",
       "      <th>9</th>\n",
       "      <td>2005</td>\n",
       "      <td>07</td>\n",
       "      <td>2</td>\n",
       "    </tr>\n",
       "    <tr>\n",
       "      <th>10</th>\n",
       "      <td>2005</td>\n",
       "      <td>08</td>\n",
       "      <td>2</td>\n",
       "    </tr>\n",
       "    <tr>\n",
       "      <th>11</th>\n",
       "      <td>2005</td>\n",
       "      <td>09</td>\n",
       "      <td>7</td>\n",
       "    </tr>\n",
       "    <tr>\n",
       "      <th>12</th>\n",
       "      <td>2005</td>\n",
       "      <td>10</td>\n",
       "      <td>2</td>\n",
       "    </tr>\n",
       "    <tr>\n",
       "      <th>13</th>\n",
       "      <td>2005</td>\n",
       "      <td>11</td>\n",
       "      <td>4</td>\n",
       "    </tr>\n",
       "    <tr>\n",
       "      <th>14</th>\n",
       "      <td>2005</td>\n",
       "      <td>12</td>\n",
       "      <td>5</td>\n",
       "    </tr>\n",
       "    <tr>\n",
       "      <th>15</th>\n",
       "      <td>2006</td>\n",
       "      <td>01</td>\n",
       "      <td>13</td>\n",
       "    </tr>\n",
       "    <tr>\n",
       "      <th>16</th>\n",
       "      <td>2006</td>\n",
       "      <td>02</td>\n",
       "      <td>6</td>\n",
       "    </tr>\n",
       "    <tr>\n",
       "      <th>17</th>\n",
       "      <td>2006</td>\n",
       "      <td>03</td>\n",
       "      <td>8</td>\n",
       "    </tr>\n",
       "    <tr>\n",
       "      <th>18</th>\n",
       "      <td>2006</td>\n",
       "      <td>04</td>\n",
       "      <td>6</td>\n",
       "    </tr>\n",
       "    <tr>\n",
       "      <th>19</th>\n",
       "      <td>2006</td>\n",
       "      <td>05</td>\n",
       "      <td>5</td>\n",
       "    </tr>\n",
       "    <tr>\n",
       "      <th>20</th>\n",
       "      <td>2006</td>\n",
       "      <td>06</td>\n",
       "      <td>8</td>\n",
       "    </tr>\n",
       "    <tr>\n",
       "      <th>21</th>\n",
       "      <td>2006</td>\n",
       "      <td>07</td>\n",
       "      <td>11</td>\n",
       "    </tr>\n",
       "    <tr>\n",
       "      <th>22</th>\n",
       "      <td>2006</td>\n",
       "      <td>08</td>\n",
       "      <td>9</td>\n",
       "    </tr>\n",
       "    <tr>\n",
       "      <th>23</th>\n",
       "      <td>2006</td>\n",
       "      <td>09</td>\n",
       "      <td>10</td>\n",
       "    </tr>\n",
       "    <tr>\n",
       "      <th>24</th>\n",
       "      <td>2006</td>\n",
       "      <td>10</td>\n",
       "      <td>9</td>\n",
       "    </tr>\n",
       "    <tr>\n",
       "      <th>25</th>\n",
       "      <td>2006</td>\n",
       "      <td>11</td>\n",
       "      <td>14</td>\n",
       "    </tr>\n",
       "    <tr>\n",
       "      <th>26</th>\n",
       "      <td>2006</td>\n",
       "      <td>12</td>\n",
       "      <td>16</td>\n",
       "    </tr>\n",
       "    <tr>\n",
       "      <th>27</th>\n",
       "      <td>2007</td>\n",
       "      <td>01</td>\n",
       "      <td>38</td>\n",
       "    </tr>\n",
       "    <tr>\n",
       "      <th>28</th>\n",
       "      <td>2007</td>\n",
       "      <td>02</td>\n",
       "      <td>30</td>\n",
       "    </tr>\n",
       "    <tr>\n",
       "      <th>29</th>\n",
       "      <td>2007</td>\n",
       "      <td>03</td>\n",
       "      <td>36</td>\n",
       "    </tr>\n",
       "    <tr>\n",
       "      <th>...</th>\n",
       "      <td>...</td>\n",
       "      <td>...</td>\n",
       "      <td>...</td>\n",
       "    </tr>\n",
       "    <tr>\n",
       "      <th>88</th>\n",
       "      <td>2012</td>\n",
       "      <td>02</td>\n",
       "      <td>1435</td>\n",
       "    </tr>\n",
       "    <tr>\n",
       "      <th>89</th>\n",
       "      <td>2012</td>\n",
       "      <td>03</td>\n",
       "      <td>1356</td>\n",
       "    </tr>\n",
       "    <tr>\n",
       "      <th>90</th>\n",
       "      <td>2012</td>\n",
       "      <td>04</td>\n",
       "      <td>1427</td>\n",
       "    </tr>\n",
       "    <tr>\n",
       "      <th>91</th>\n",
       "      <td>2012</td>\n",
       "      <td>05</td>\n",
       "      <td>1652</td>\n",
       "    </tr>\n",
       "    <tr>\n",
       "      <th>92</th>\n",
       "      <td>2012</td>\n",
       "      <td>06</td>\n",
       "      <td>1647</td>\n",
       "    </tr>\n",
       "    <tr>\n",
       "      <th>93</th>\n",
       "      <td>2012</td>\n",
       "      <td>07</td>\n",
       "      <td>1746</td>\n",
       "    </tr>\n",
       "    <tr>\n",
       "      <th>94</th>\n",
       "      <td>2012</td>\n",
       "      <td>08</td>\n",
       "      <td>1998</td>\n",
       "    </tr>\n",
       "    <tr>\n",
       "      <th>95</th>\n",
       "      <td>2012</td>\n",
       "      <td>09</td>\n",
       "      <td>2194</td>\n",
       "    </tr>\n",
       "    <tr>\n",
       "      <th>96</th>\n",
       "      <td>2012</td>\n",
       "      <td>10</td>\n",
       "      <td>3526</td>\n",
       "    </tr>\n",
       "    <tr>\n",
       "      <th>97</th>\n",
       "      <td>2012</td>\n",
       "      <td>11</td>\n",
       "      <td>4525</td>\n",
       "    </tr>\n",
       "    <tr>\n",
       "      <th>98</th>\n",
       "      <td>2012</td>\n",
       "      <td>12</td>\n",
       "      <td>9442</td>\n",
       "    </tr>\n",
       "    <tr>\n",
       "      <th>99</th>\n",
       "      <td>2013</td>\n",
       "      <td>01</td>\n",
       "      <td>9903</td>\n",
       "    </tr>\n",
       "    <tr>\n",
       "      <th>100</th>\n",
       "      <td>2013</td>\n",
       "      <td>02</td>\n",
       "      <td>8343</td>\n",
       "    </tr>\n",
       "    <tr>\n",
       "      <th>101</th>\n",
       "      <td>2013</td>\n",
       "      <td>03</td>\n",
       "      <td>8519</td>\n",
       "    </tr>\n",
       "    <tr>\n",
       "      <th>102</th>\n",
       "      <td>2013</td>\n",
       "      <td>04</td>\n",
       "      <td>9104</td>\n",
       "    </tr>\n",
       "    <tr>\n",
       "      <th>103</th>\n",
       "      <td>2013</td>\n",
       "      <td>05</td>\n",
       "      <td>9125</td>\n",
       "    </tr>\n",
       "    <tr>\n",
       "      <th>104</th>\n",
       "      <td>2013</td>\n",
       "      <td>06</td>\n",
       "      <td>8749</td>\n",
       "    </tr>\n",
       "    <tr>\n",
       "      <th>105</th>\n",
       "      <td>2013</td>\n",
       "      <td>07</td>\n",
       "      <td>9671</td>\n",
       "    </tr>\n",
       "    <tr>\n",
       "      <th>106</th>\n",
       "      <td>2013</td>\n",
       "      <td>08</td>\n",
       "      <td>10167</td>\n",
       "    </tr>\n",
       "    <tr>\n",
       "      <th>107</th>\n",
       "      <td>2013</td>\n",
       "      <td>09</td>\n",
       "      <td>9683</td>\n",
       "    </tr>\n",
       "    <tr>\n",
       "      <th>108</th>\n",
       "      <td>2013</td>\n",
       "      <td>10</td>\n",
       "      <td>12187</td>\n",
       "    </tr>\n",
       "    <tr>\n",
       "      <th>109</th>\n",
       "      <td>2013</td>\n",
       "      <td>11</td>\n",
       "      <td>14591</td>\n",
       "    </tr>\n",
       "    <tr>\n",
       "      <th>110</th>\n",
       "      <td>2013</td>\n",
       "      <td>12</td>\n",
       "      <td>18476</td>\n",
       "    </tr>\n",
       "    <tr>\n",
       "      <th>111</th>\n",
       "      <td>2014</td>\n",
       "      <td>01</td>\n",
       "      <td>19025</td>\n",
       "    </tr>\n",
       "    <tr>\n",
       "      <th>112</th>\n",
       "      <td>2014</td>\n",
       "      <td>02</td>\n",
       "      <td>15230</td>\n",
       "    </tr>\n",
       "    <tr>\n",
       "      <th>113</th>\n",
       "      <td>2014</td>\n",
       "      <td>03</td>\n",
       "      <td>16479</td>\n",
       "    </tr>\n",
       "    <tr>\n",
       "      <th>114</th>\n",
       "      <td>2014</td>\n",
       "      <td>04</td>\n",
       "      <td>14335</td>\n",
       "    </tr>\n",
       "    <tr>\n",
       "      <th>115</th>\n",
       "      <td>2014</td>\n",
       "      <td>05</td>\n",
       "      <td>14157</td>\n",
       "    </tr>\n",
       "    <tr>\n",
       "      <th>116</th>\n",
       "      <td>2014</td>\n",
       "      <td>06</td>\n",
       "      <td>12987</td>\n",
       "    </tr>\n",
       "    <tr>\n",
       "      <th>117</th>\n",
       "      <td>2014</td>\n",
       "      <td>07</td>\n",
       "      <td>8858</td>\n",
       "    </tr>\n",
       "  </tbody>\n",
       "</table>\n",
       "<p>118 rows × 3 columns</p>\n",
       "</div>"
      ],
      "text/plain": [
       "     year month  reviewerID\n",
       "0    2003    03           1\n",
       "1    2003    12           1\n",
       "2    2004    07           1\n",
       "3    2004    09           3\n",
       "4    2004    12           2\n",
       "5    2005    03           1\n",
       "6    2005    04           2\n",
       "7    2005    05           1\n",
       "8    2005    06           1\n",
       "9    2005    07           2\n",
       "10   2005    08           2\n",
       "11   2005    09           7\n",
       "12   2005    10           2\n",
       "13   2005    11           4\n",
       "14   2005    12           5\n",
       "15   2006    01          13\n",
       "16   2006    02           6\n",
       "17   2006    03           8\n",
       "18   2006    04           6\n",
       "19   2006    05           5\n",
       "20   2006    06           8\n",
       "21   2006    07          11\n",
       "22   2006    08           9\n",
       "23   2006    09          10\n",
       "24   2006    10           9\n",
       "25   2006    11          14\n",
       "26   2006    12          16\n",
       "27   2007    01          38\n",
       "28   2007    02          30\n",
       "29   2007    03          36\n",
       "..    ...   ...         ...\n",
       "88   2012    02        1435\n",
       "89   2012    03        1356\n",
       "90   2012    04        1427\n",
       "91   2012    05        1652\n",
       "92   2012    06        1647\n",
       "93   2012    07        1746\n",
       "94   2012    08        1998\n",
       "95   2012    09        2194\n",
       "96   2012    10        3526\n",
       "97   2012    11        4525\n",
       "98   2012    12        9442\n",
       "99   2013    01        9903\n",
       "100  2013    02        8343\n",
       "101  2013    03        8519\n",
       "102  2013    04        9104\n",
       "103  2013    05        9125\n",
       "104  2013    06        8749\n",
       "105  2013    07        9671\n",
       "106  2013    08       10167\n",
       "107  2013    09        9683\n",
       "108  2013    10       12187\n",
       "109  2013    11       14591\n",
       "110  2013    12       18476\n",
       "111  2014    01       19025\n",
       "112  2014    02       15230\n",
       "113  2014    03       16479\n",
       "114  2014    04       14335\n",
       "115  2014    05       14157\n",
       "116  2014    06       12987\n",
       "117  2014    07        8858\n",
       "\n",
       "[118 rows x 3 columns]"
      ]
     },
     "execution_count": 34,
     "metadata": {},
     "output_type": "execute_result"
    }
   ],
   "source": [
    "reviews_by_time.groupby(['year','month']).reviewerID.sum().reset_index()\n",
    "# .to_csv('by_year.csv')\n",
    "## Plotted this by year in excel - it seems like there is a trend in 2013 and 2014 where:\n",
    "## 1. There is a small peak in Feb\n",
    "## 2. Huge peak starting from september"
   ]
  },
  {
   "cell_type": "markdown",
   "metadata": {},
   "source": [
    "### Size of the reviews"
   ]
  },
  {
   "cell_type": "code",
   "execution_count": 35,
   "metadata": {},
   "outputs": [],
   "source": [
    "df_review['reviewText_len']=df_review['reviewText'].str.len()"
   ]
  },
  {
   "cell_type": "code",
   "execution_count": 36,
   "metadata": {},
   "outputs": [
    {
     "data": {
      "text/plain": [
       "315.2434359491454"
      ]
     },
     "execution_count": 36,
     "metadata": {},
     "output_type": "execute_result"
    }
   ],
   "source": [
    "df_review['reviewText_len'].mean()"
   ]
  },
  {
   "cell_type": "code",
   "execution_count": 37,
   "metadata": {},
   "outputs": [
    {
     "data": {
      "image/png": "[encoded data removed]",
      "text/plain": [
       "<matplotlib.figure.Figure at 0x12997f810>"
      ]
     },
     "metadata": {},
     "output_type": "display_data"
    }
   ],
   "source": [
    "ax = df_review['reviewText_len'].plot(kind = 'hist',bins=range(0,2000,100),\\\n",
    "                         title = 'Distribution of the length of reviews'\\\n",
    "                        ,facecolor='#80cbc4')\n",
    "\n",
    "\n",
    "ax.set_xlabel('Length of the Review')\n",
    "ax.set_ylabel('# of reviews')\n",
    "ax.set_axis_bgcolor('#fffbf0')"
   ]
  },
  {
   "cell_type": "code",
   "execution_count": 38,
   "metadata": {},
   "outputs": [],
   "source": [
    "df_review.groupby(['reviewText_len','overall']).reviewerID.count().reset_index().to_csv('review_length.csv')\n",
    "\n",
    "## Nothing important"
   ]
  },
  {
   "cell_type": "code",
   "execution_count": 39,
   "metadata": {
    "collapsed": true
   },
   "outputs": [],
   "source": [
    "df_review.groupby(['reviewText_len','helpful_yes']).reviewerID.count().reset_index().to_csv('review_length_yes.csv')"
   ]
  },
  {
   "cell_type": "markdown",
   "metadata": {},
   "source": [
    "### Analyze products"
   ]
  },
  {
   "cell_type": "code",
   "execution_count": 40,
   "metadata": {},
   "outputs": [
    {
     "data": {
      "image/png": "[encoded data removed]",
      "text/plain": [
       "<matplotlib.figure.Figure at 0x12997f310>"
      ]
     },
     "metadata": {},
     "output_type": "display_data"
    }
   ],
   "source": [
    "# df_review.groupby('asin').overall.mean().round().reset_index()['overall'].hist()\n",
    "ax = df_review.groupby('asin').overall.mean().round().reset_index()['overall']\\\n",
    "                              .plot(kind = 'hist',\\\n",
    "                               title = '# of products by average product reviews'\\\n",
    "                               ,facecolor='#80cbc4')\n",
    "    \n",
    "    \n",
    "ax.set_xlabel('# of products')\n",
    "ax.set_ylabel('Average Reviews')\n",
    "ax.set_axis_bgcolor('#fffbf0')\n",
    "## Most products have an average rating of 4 - very skewed??"
   ]
  },
  {
   "cell_type": "code",
   "execution_count": 41,
   "metadata": {},
   "outputs": [
    {
     "data": {
      "text/plain": [
       "1503384"
      ]
     },
     "execution_count": 41,
     "metadata": {},
     "output_type": "execute_result"
    }
   ],
   "source": [
    "df_meta['asin'].nunique()"
   ]
  },
  {
   "cell_type": "code",
   "execution_count": 42,
   "metadata": {},
   "outputs": [
    {
     "data": {
      "text/plain": [
       "asin           1503384\n",
       "categories     1503384\n",
       "title          1502696\n",
       "price           574882\n",
       "salesRank      1422273\n",
       "imUrl          1503305\n",
       "brand            98132\n",
       "related        1057123\n",
       "description      85442\n",
       "dtype: int64"
      ]
     },
     "execution_count": 42,
     "metadata": {},
     "output_type": "execute_result"
    }
   ],
   "source": [
    "df_meta.count()"
   ]
  },
  {
   "cell_type": "code",
   "execution_count": 43,
   "metadata": {
    "collapsed": true
   },
   "outputs": [],
   "source": [
    "df_meta['price2'] = df_meta['price'].round()\n",
    "\n"
   ]
  },
  {
   "cell_type": "code",
   "execution_count": 44,
   "metadata": {},
   "outputs": [
    {
     "data": {
      "image/png": "[encoded data removed]",
      "text/plain": [
       "<matplotlib.figure.Figure at 0x15f005250>"
      ]
     },
     "metadata": {},
     "output_type": "display_data"
    }
   ],
   "source": [
    "# df_meta.groupby('price2').asin.count().reset_index()['asin'].hist(bins=range(0,5000,1))\n",
    "\n",
    "# df_meta['price2'].hist(bins=range(0,400,10))\n",
    "\n",
    "\n",
    "ax = df_meta['price2']\\\n",
    "      .plot(kind = 'hist',bins=range(0,400,10),\\\n",
    "       title = 'Price distribution'\\\n",
    "       ,facecolor='#80cbc4')\n",
    "    \n",
    "    \n",
    "ax.set_xlabel('Price $')\n",
    "ax.set_ylabel('# of products')\n",
    "ax.set_axis_bgcolor('#fffbf0')\n",
    "\n",
    "\n",
    "plt.show()"
   ]
  },
  {
   "cell_type": "code",
   "execution_count": 45,
   "metadata": {
    "collapsed": true
   },
   "outputs": [],
   "source": [
    "## Filter out only for clothing data"
   ]
  },
  {
   "cell_type": "code",
   "execution_count": 46,
   "metadata": {},
   "outputs": [
    {
     "data": {
      "text/plain": [
       "[['Clothing, Shoes & Jewelry',\n",
       "  'Women',\n",
       "  'Accessories',\n",
       "  'Sunglasses & Eyewear Accessories',\n",
       "  'Sunglasses'],\n",
       " ['Clothing, Shoes & Jewelry',\n",
       "  'Men',\n",
       "  'Accessories',\n",
       "  'Sunglasses & Eyewear Accessories',\n",
       "  'Sunglasses'],\n",
       " ['Clothing, Shoes & Jewelry',\n",
       "  'Novelty, Costumes & More',\n",
       "  'Band & Music Fan',\n",
       "  'Accessories']]"
      ]
     },
     "execution_count": 46,
     "metadata": {},
     "output_type": "execute_result"
    }
   ],
   "source": [
    "df_meta['categories'][4]"
   ]
  },
  {
   "cell_type": "code",
   "execution_count": 47,
   "metadata": {},
   "outputs": [],
   "source": [
    "flat = []\n",
    "for i in range(len(df_meta['categories'])):\n",
    "    flattened = list(set([y for x in df_meta['categories'][i] for y in x]))\n",
    "    flat.append(flattened)"
   ]
  },
  {
   "cell_type": "code",
   "execution_count": 48,
   "metadata": {},
   "outputs": [],
   "source": [
    "df_meta['category']=flat"
   ]
  },
  {
   "cell_type": "code",
   "execution_count": 49,
   "metadata": {},
   "outputs": [],
   "source": [
    "men = []\n",
    "women = []\n",
    "for i in range(len(df_meta['category'])):\n",
    "    if 'Clothing, Shoes & Jewelry' in df_meta['category'][i]:\n",
    "        if ('Men' in df_meta['category'][i]) and ('Women' in df_meta['category'][i]):\n",
    "            m = 1\n",
    "            w = 1\n",
    "        elif ('Men' in df_meta['category'][i]) and ~('Women' in df_meta['category'][i]):\n",
    "            m = 1\n",
    "            w = 0\n",
    "        elif ('Women' in df_meta['category'][i]) and ~('Men' in df_meta['category'][i]):\n",
    "            w = 1\n",
    "            m = 0\n",
    "        else:\n",
    "            w = 0\n",
    "            m = 0\n",
    "        men.append(m)\n",
    "        women.append(w)\n",
    "            \n",
    "    "
   ]
  },
  {
   "cell_type": "code",
   "execution_count": 50,
   "metadata": {},
   "outputs": [],
   "source": [
    "df_meta['men'] = men\n",
    "df_meta['women'] = women\n"
   ]
  },
  {
   "cell_type": "code",
   "execution_count": 51,
   "metadata": {},
   "outputs": [],
   "source": [
    "def category_flag(row):\n",
    "        if (row['men'] == 1) and (row['women'] == 1) :\n",
    "            return 'Unisex'\n",
    "        if (row['men'] == 0) and (row['women'] == 1):\n",
    "            return 'Women'\n",
    "        if (row['men'] == 1) and (row['women'] == 0):\n",
    "            return 'Men'\n",
    "        if (row['men'] == 0) and (row['women'] == 0):\n",
    "            return 'Others'\n",
    "        \n",
    "       "
   ]
  },
  {
   "cell_type": "code",
   "execution_count": 52,
   "metadata": {
    "collapsed": true
   },
   "outputs": [],
   "source": [
    "df_meta['category_flag']=df_meta.apply(lambda row: category_flag(row),axis=1)"
   ]
  },
  {
   "cell_type": "code",
   "execution_count": 53,
   "metadata": {},
   "outputs": [
    {
     "data": {
      "image/png": "[encoded data removed]",
      "text/plain": [
       "<matplotlib.figure.Figure at 0x22f527c50>"
      ]
     },
     "metadata": {},
     "output_type": "display_data"
    }
   ],
   "source": [
    "# df_meta.groupby('category_flag').asin.count().plot(kind = 'bar')\n",
    "# plt.show()\n",
    "\n",
    "\n",
    "\n",
    "ax = df_meta.groupby('category_flag').asin.count().\\\n",
    "            plot(kind = 'bar', title = '# Products by sub-category'\\\n",
    "            ,color =['#b7b7b7'], legend = False)\n",
    "                                                        \n",
    "\n",
    "\n",
    "ax.set_xlabel('Product Sub-Category')\n",
    "ax.set_ylabel('# Products ')\n",
    "ax.set_axis_bgcolor('#fffbf0')\n"
   ]
  },
  {
   "cell_type": "code",
   "execution_count": 54,
   "metadata": {},
   "outputs": [
    {
     "data": {
      "image/png": "[encoded data removed]",
      "text/plain": [
       "<matplotlib.figure.Figure at 0x22e04d610>"
      ]
     },
     "metadata": {},
     "output_type": "display_data"
    }
   ],
   "source": [
    "# df_meta[df_meta['category_flag']== 'Men'][['price2']].hist(bins = range(0,200,10))\n",
    "\n",
    "\n",
    "ax = df_meta[df_meta['category_flag']== 'Men'][['price2']]\\\n",
    "      .plot(kind = 'hist',bins=range(0,200,10),\\\n",
    "       title = 'Price distribution (Category - Men)'\\\n",
    "       ,facecolor='#80cbc4', legend = False)\n",
    "    \n",
    "    \n",
    "ax.set_xlabel('Price $')\n",
    "ax.set_ylabel('# of products')\n",
    "ax.set_axis_bgcolor('#fffbf0')\n",
    "\n",
    "\n",
    "plt.show()"
   ]
  },
  {
   "cell_type": "code",
   "execution_count": 55,
   "metadata": {},
   "outputs": [
    {
     "data": {
      "image/png": "[encoded data removed]",
      "text/plain": [
       "<matplotlib.figure.Figure at 0x15e7f9f50>"
      ]
     },
     "metadata": {},
     "output_type": "display_data"
    }
   ],
   "source": [
    "# df_meta[df_meta['category_flag']== 'Women'][['price2']].hist(bins = range(0,200,10))\n",
    "\n",
    "ax = df_meta[df_meta['category_flag']== 'Women'][['price2']]\\\n",
    "      .plot(kind = 'hist',bins=range(0,200,10),\\\n",
    "       title = 'Price distribution (Category - Women)'\\\n",
    "       ,facecolor='#80cbc4', legend = False)\n",
    "    \n",
    "    \n",
    "ax.set_xlabel('Price $')\n",
    "ax.set_ylabel('# of products')\n",
    "ax.set_axis_bgcolor('#fffbf0')\n",
    "\n",
    "\n",
    "plt.show()"
   ]
  },
  {
   "cell_type": "code",
   "execution_count": 56,
   "metadata": {},
   "outputs": [
    {
     "data": {
      "text/plain": [
       "array([[<matplotlib.axes._subplots.AxesSubplot object at 0x232c62150>]], dtype=object)"
      ]
     },
     "execution_count": 56,
     "metadata": {},
     "output_type": "execute_result"
    },
    {
     "data": {
      "image/png": "[encoded data removed]",
      "text/plain": [
       "<matplotlib.figure.Figure at 0x2340f2890>"
      ]
     },
     "metadata": {},
     "output_type": "display_data"
    }
   ],
   "source": [
    "df_meta[df_meta['category_flag']== 'Unisex'][['price2']].hist(bins = range(0,200,10))"
   ]
  },
  {
   "cell_type": "code",
   "execution_count": 57,
   "metadata": {},
   "outputs": [
    {
     "data": {
      "text/plain": [
       "array([[<matplotlib.axes._subplots.AxesSubplot object at 0x129645cd0>]], dtype=object)"
      ]
     },
     "execution_count": 57,
     "metadata": {},
     "output_type": "execute_result"
    },
    {
     "data": {
      "image/png": "[encoded data removed]",
      "text/plain": [
       "<matplotlib.figure.Figure at 0x2340f7450>"
      ]
     },
     "metadata": {},
     "output_type": "display_data"
    }
   ],
   "source": [
    "df_meta[df_meta['category_flag']== 'Others'][['price2']].hist(bins = range(0,200,10))"
   ]
  },
  {
   "cell_type": "code",
   "execution_count": null,
   "metadata": {
    "collapsed": true
   },
   "outputs": [],
   "source": []
  }
 ],
 "metadata": {
  "anaconda-cloud": {},
  "kernelspec": {
   "display_name": "python2",
   "language": "python",
   "name": "python2"
  },
  "language_info": {
   "codemirror_mode": {
    "name": "ipython",
    "version": 3
   },
   "file_extension": ".py",
   "mimetype": "text/x-python",
   "name": "python",
   "nbconvert_exporter": "python",
   "pygments_lexer": "ipython3",
   "version": "3.7.1"
  }
 },
 "nbformat": 4,
 "nbformat_minor": 2
}
