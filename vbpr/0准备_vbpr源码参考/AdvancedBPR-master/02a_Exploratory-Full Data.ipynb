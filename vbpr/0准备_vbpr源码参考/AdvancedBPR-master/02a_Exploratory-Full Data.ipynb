{
 "cells": [
  {
   "cell_type": "markdown",
   "metadata": {},
   "source": [
    "# Exploratory analysis\n",
    "\n",
    "1. This workbook covers some basic exploratory analyses to understand the data better\n",
    "2. Both Review data and Product (meta data) have been analyzed here\n",
    "3. Image data has not been analyzed"
   ]
  },
  {
   "cell_type": "code",
   "execution_count": 38,
   "metadata": {
    "collapsed": true
   },
   "outputs": [],
   "source": [
    "import pandas as pd\n",
    "import gzip"
   ]
  },
  {
   "cell_type": "code",
   "execution_count": 39,
   "metadata": {},
   "outputs": [
    {
     "name": "stdout",
     "output_type": "stream",
     "text": [
      "/Users/Deepthi/Documents/DSE/Capstone/Data/From Julius\n"
     ]
    }
   ],
   "source": [
    "%cd /Users/Deepthi/Documents/DSE/Capstone/Data/From Julius"
   ]
  },
  {
   "cell_type": "code",
   "execution_count": 40,
   "metadata": {},
   "outputs": [],
   "source": [
    "# !ls"
   ]
  },
  {
   "cell_type": "code",
   "execution_count": 41,
   "metadata": {
    "collapsed": true
   },
   "outputs": [],
   "source": [
    "## Women's metadata\n",
    "df_meta = pd.read_hdf('cleaned.hd5', key='womens')"
   ]
  },
  {
   "cell_type": "code",
   "execution_count": 42,
   "metadata": {
    "collapsed": true
   },
   "outputs": [],
   "source": [
    "df_review = pd.read_csv('reviews_Women_ALL_scraped.csv')"
   ]
  },
  {
   "cell_type": "code",
   "execution_count": 44,
   "metadata": {},
   "outputs": [],
   "source": [
    "import matplotlib.pyplot as plt\n",
    "%matplotlib inline"
   ]
  },
  {
   "cell_type": "markdown",
   "metadata": {},
   "source": [
    "### Analyze customers"
   ]
  },
  {
   "cell_type": "code",
   "execution_count": 55,
   "metadata": {},
   "outputs": [
    {
     "data": {
      "image/png": "[encoded data removed]",
      "text/plain": [
       "<matplotlib.figure.Figure at 0x11f62bcd0>"
      ]
     },
     "metadata": {},
     "output_type": "display_data"
    }
   ],
   "source": [
    "## Number of reviews by each customer\n",
    "## This histogram shows that most customers write 5 reviews\n",
    "\n",
    "# df_review.groupby(['reviewerID']).asin.nunique().reset_index()['asin'].hist(bins=range(5,25,1))\n",
    "\n",
    "ax = df_review.groupby(['reviewerId']).asin.nunique().reset_index()['asin'].plot(kind = 'hist',bins =range(1,18,1),\\\n",
    "                                                                                 title = 'Distribution of #reviews by each customer (Full dataset)'\\\n",
    "                                                                                ,facecolor='#80cbc4',edgecolor='black')\n",
    "ax.set_xlabel('# number of reviews')\n",
    "ax.set_ylabel('# number of customers')\n",
    "ax.set_facecolor('#fffbf0')\n",
    "plt.show()"
   ]
  },
  {
   "cell_type": "code",
   "execution_count": 57,
   "metadata": {},
   "outputs": [],
   "source": [
    "df_review2 = df_review.groupby(['reviewerId']).asin.nunique().reset_index().groupby('asin').reviewerId.nunique().reset_index()"
   ]
  },
  {
   "cell_type": "code",
   "execution_count": 58,
   "metadata": {},
   "outputs": [],
   "source": [
    "df_review2['pct_reviewers']=df_review2['reviewerId']*100/df_review2['reviewerId'].sum()"
   ]
  },
  {
   "cell_type": "code",
   "execution_count": 59,
   "metadata": {},
   "outputs": [],
   "source": [
    "# Customers with 0-4 reviews form about 95% of the data. So 5 core happens to be 5% of the data.\n",
    "# df_review2"
   ]
  },
  {
   "cell_type": "code",
   "execution_count": 60,
   "metadata": {},
   "outputs": [],
   "source": [
    "## To plot the same distribution as %\n",
    "df = df_review.groupby(['reviewerId']).asin.nunique().reset_index()\n",
    "df2= df.groupby(['asin']).reviewerId.nunique().reset_index().sort_values('reviewerId',ascending = False)"
   ]
  },
  {
   "cell_type": "code",
   "execution_count": 61,
   "metadata": {
    "collapsed": true
   },
   "outputs": [],
   "source": [
    "def flag(row):\n",
    "        if row['asin'] == 0 :\n",
    "            return '00'\n",
    "        if row['asin'] == 1 :\n",
    "            return '01'\n",
    "        if row['asin'] == 2 :\n",
    "            return '02'\n",
    "        if row['asin'] == 3 :\n",
    "            return '03'\n",
    "        if row['asin'] == 4 :\n",
    "            return '04'\n",
    "        if row['asin'] == 5 :\n",
    "            return '05'\n",
    "        if row['asin'] == 6 :\n",
    "            return '06'\n",
    "        if row['asin'] == 7 :\n",
    "            return '07'\n",
    "        if row['asin'] == 8 :\n",
    "            return '08'\n",
    "        if row['asin'] == 9 :\n",
    "            return '09'\n",
    "        if row['asin'] == 10 :\n",
    "            return '10'\n",
    "        if row['asin'] > 10 :\n",
    "            return '>10'"
   ]
  },
  {
   "cell_type": "code",
   "execution_count": 62,
   "metadata": {},
   "outputs": [],
   "source": [
    "df2['flag']=df2.apply(lambda row: flag(row),axis=1)\n",
    "df3 = df2.groupby(['flag']).reviewerId.sum().reset_index()"
   ]
  },
  {
   "cell_type": "code",
   "execution_count": 63,
   "metadata": {},
   "outputs": [],
   "source": [
    "df3['pct'] = df3['reviewerId']/(df3['reviewerId'].sum())*100"
   ]
  },
  {
   "cell_type": "code",
   "execution_count": 64,
   "metadata": {},
   "outputs": [
    {
     "data": {
      "image/png": "[encoded data removed]",
      "text/plain": [
       "<matplotlib.figure.Figure at 0x126660a10>"
      ]
     },
     "metadata": {},
     "output_type": "display_data"
    }
   ],
   "source": [
    "ax = df3.sort_values('flag',ascending=True).plot(kind='bar',x = 'flag',y='pct', color ='#80cbc4',\\\n",
    "                                     title='%customers by number of reviews'\\\n",
    "                                     ,legend = False,edgecolor='black')\n",
    "ax.set_xlabel('# reviews')\n",
    "ax.set_ylabel('% customers')\n",
    "ax.set_facecolor('#fffbf0')\n",
    "plt.show()\n",
    "\n",
    "## This graph says that 40% of the customers write 5 reviews \n",
    "## 75% of the reviews are written by customers writing upto 7 reviews"
   ]
  },
  {
   "cell_type": "markdown",
   "metadata": {},
   "source": [
    "### Reviews by time"
   ]
  },
  {
   "cell_type": "code",
   "execution_count": 71,
   "metadata": {
    "scrolled": true
   },
   "outputs": [],
   "source": [
    "df_review['unixReviewTime2']=pd.to_datetime(df_review['unixReviewTime'],unit='s')"
   ]
  },
  {
   "cell_type": "code",
   "execution_count": 72,
   "metadata": {},
   "outputs": [],
   "source": [
    "reviews_by_time = df_review.groupby(['unixReviewTime2']).reviewerId.count().reset_index()"
   ]
  },
  {
   "cell_type": "code",
   "execution_count": 73,
   "metadata": {},
   "outputs": [],
   "source": [
    "reviews_by_time['year'] = pd.DatetimeIndex(reviews_by_time['unixReviewTime2']).year\n",
    "reviews_by_time['month'] = pd.DatetimeIndex(reviews_by_time['unixReviewTime2']).month\n"
   ]
  },
  {
   "cell_type": "code",
   "execution_count": 74,
   "metadata": {},
   "outputs": [
    {
     "data": {
      "image/png": "[encoded data removed]",
      "text/plain": [
       "<matplotlib.figure.Figure at 0x124b6f650>"
      ]
     },
     "metadata": {},
     "output_type": "display_data"
    }
   ],
   "source": [
    "ax = reviews_by_time.groupby('year').reviewerId.sum().reset_index().plot(x='year',y='reviewerId', color='#00695c',\\\n",
    "                                                                         legend = False, title = '#Reviews over time')\n",
    "\n",
    "ax.set_xlabel('Year')\n",
    "ax.set_ylabel('# Ratings')\n",
    "ax.set_facecolor('#fffbf0')\n",
    "\n",
    "## Huge increase in reviews since 2011"
   ]
  },
  {
   "cell_type": "code",
   "execution_count": 75,
   "metadata": {},
   "outputs": [],
   "source": [
    "reviews_by_time1= reviews_by_time[reviews_by_time['year']>2011]"
   ]
  },
  {
   "cell_type": "code",
   "execution_count": 76,
   "metadata": {},
   "outputs": [
    {
     "data": {
      "image/png": "[encoded data removed]",
      "text/plain": [
       "<matplotlib.figure.Figure at 0x115aea050>"
      ]
     },
     "metadata": {},
     "output_type": "display_data"
    }
   ],
   "source": [
    "ax = reviews_by_time1[(reviews_by_time1['year']<>2014)].groupby(['month']).reviewerId.mean().reset_index().\\\n",
    "plot(x='month',y='reviewerId', legend = False, title = 'Avg. number of Ratings by month-(2011 to 2013)',color='#00695c')\n",
    "\n",
    "\n",
    "ax.set_xlabel('Month')\n",
    "ax.set_ylabel('Avg. number of Ratings')\n",
    "ax.set_facecolor('#fffbf0')\n",
    "## Highest number of reviews during holiday season"
   ]
  },
  {
   "cell_type": "markdown",
   "metadata": {},
   "source": [
    "### Analyze products\n",
    "\n",
    "#### Rerun this with the full metadata once Julius finishes scrapping"
   ]
  },
  {
   "cell_type": "code",
   "execution_count": 77,
   "metadata": {},
   "outputs": [
    {
     "data": {
      "text/plain": [
       "12725"
      ]
     },
     "execution_count": 77,
     "metadata": {},
     "output_type": "execute_result"
    }
   ],
   "source": [
    "df_meta['asin'].nunique()"
   ]
  },
  {
   "cell_type": "code",
   "execution_count": 78,
   "metadata": {},
   "outputs": [
    {
     "data": {
      "text/plain": [
       "BRAND                  12609\n",
       "FEATURE_BULLETS        12725\n",
       "NAME                   12716\n",
       "ORIGINAL_PRICE          7807\n",
       "PRODUCT_DESCRIPTION    12725\n",
       "PRODUCT_INFORMATION    12725\n",
       "SALE_PRICE              7807\n",
       "URL                    12725\n",
       "asin                   12725\n",
       "dtype: int64"
      ]
     },
     "execution_count": 78,
     "metadata": {},
     "output_type": "execute_result"
    }
   ],
   "source": [
    "df_meta.count()"
   ]
  },
  {
   "cell_type": "code",
   "execution_count": 79,
   "metadata": {
    "collapsed": true
   },
   "outputs": [],
   "source": [
    "df_meta['ORIGINAL_PRICE'].replace('None', '0', inplace=True)"
   ]
  },
  {
   "cell_type": "code",
   "execution_count": 80,
   "metadata": {},
   "outputs": [],
   "source": [
    "df_meta['ORIGINAL_PRICE']=df_meta['ORIGINAL_PRICE'].fillna('$0')\n",
    "df_meta['SALE_PRICE']=df_meta['SALE_PRICE'].fillna('$0')"
   ]
  },
  {
   "cell_type": "code",
   "execution_count": 81,
   "metadata": {},
   "outputs": [],
   "source": [
    "import re\n",
    "def is_number(s):\n",
    "    try:\n",
    "        complex(s) # for int, long, float and complex\n",
    "    except ValueError:\n",
    "        return False\n",
    "    return True\n",
    "\n",
    "getMoney = lambda text : [ ''.join(x[0]) for x in re.findall(r'(\\$?\\d+([,\\.]\\d+)?k?)', text.replace(',', '').replace('$',''))]\n",
    "\n",
    "def getAvg(x):\n",
    "    s = average([(float(y) if is_number(y) else -1) for y in getMoney(x.SALE_PRICE)])\n",
    "    o = average([(float(y) if is_number(y) else -1) for y in getMoney(x.ORIGINAL_PRICE)])\n",
    "    return average([s, o])"
   ]
  },
  {
   "cell_type": "code",
   "execution_count": 82,
   "metadata": {},
   "outputs": [],
   "source": [
    "df_meta['price2']=df_meta.apply(lambda x: getAvg(x), axis='columns')"
   ]
  },
  {
   "cell_type": "code",
   "execution_count": 83,
   "metadata": {},
   "outputs": [
    {
     "data": {
      "image/png": "[encoded data removed]",
      "text/plain": [
       "<matplotlib.figure.Figure at 0x10c61c610>"
      ]
     },
     "metadata": {},
     "output_type": "display_data"
    }
   ],
   "source": [
    "ax = df_meta['price2']\\\n",
    "      .plot(kind = 'hist',bins=range(0,400,10),\\\n",
    "       title = 'Price distribution'\\\n",
    "       ,facecolor='#80cbc4',edgecolor='black')\n",
    "    \n",
    "    \n",
    "ax.set_xlabel('Price $')\n",
    "ax.set_ylabel('# of products')\n",
    "ax.set_facecolor('#fffbf0')\n",
    "\n",
    "\n",
    "plt.show()"
   ]
  },
  {
   "cell_type": "code",
   "execution_count": 85,
   "metadata": {},
   "outputs": [
    {
     "data": {
      "image/png": "[encoded data removed]",
      "text/plain": [
       "<matplotlib.figure.Figure at 0x1218b5c90>"
      ]
     },
     "metadata": {},
     "output_type": "display_data"
    }
   ],
   "source": [
    "ax = df_meta[['price2']]\\\n",
    "      .plot(kind = 'hist',bins=range(0,200,10),\\\n",
    "       title = 'Price distribution (Category - Women)'\\\n",
    "       ,facecolor='#80cbc4', legend = False, edgecolor='black')\n",
    "    \n",
    "    \n",
    "ax.set_xlabel('Price $')\n",
    "ax.set_ylabel('# of products')\n",
    "ax.set_facecolor('#fffbf0')\n",
    "\n",
    "\n",
    "plt.show()"
   ]
  },
  {
   "cell_type": "code",
   "execution_count": null,
   "metadata": {
    "collapsed": true
   },
   "outputs": [],
   "source": []
  },
  {
   "cell_type": "code",
   "execution_count": null,
   "metadata": {
    "collapsed": true
   },
   "outputs": [],
   "source": []
  },
  {
   "cell_type": "code",
   "execution_count": null,
   "metadata": {
    "collapsed": true
   },
   "outputs": [],
   "source": []
  }
 ],
 "metadata": {
  "anaconda-cloud": {},
  "kernelspec": {
   "display_name": "python2",
   "language": "python",
   "name": "python2"
  },
  "language_info": {
   "codemirror_mode": {
    "name": "ipython",
    "version": 3
   },
   "file_extension": ".py",
   "mimetype": "text/x-python",
   "name": "python",
   "nbconvert_exporter": "python",
   "pygments_lexer": "ipython3",
   "version": "3.7.1"
  }
 },
 "nbformat": 4,
 "nbformat_minor": 2
}
