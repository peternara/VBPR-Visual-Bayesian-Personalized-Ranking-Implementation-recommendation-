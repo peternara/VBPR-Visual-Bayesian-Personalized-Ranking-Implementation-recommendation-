{
 "cells": [
  {
   "cell_type": "code",
   "execution_count": 1,
   "metadata": {},
   "outputs": [],
   "source": [
    "from collections import defaultdict\n",
    "import numpy as np\n",
    "import random\n",
    "import csv"
   ]
  },
  {
   "cell_type": "code",
   "execution_count": 2,
   "metadata": {},
   "outputs": [],
   "source": [
    "class Corpus(object):\n",
    "    def __init__(self): #记住这里的双下划线前缀的特殊用法\n",
    "        super(Corpus, self).__init__()\n",
    "    \n",
    "    \n",
    "    \n",
    "    def load_data(self, reviews_path, images_path, user_min, item_min):\n",
    "        # load reviews\n",
    "        self.load_reviews(reviews_path, user_min)\n",
    "        if images_path:\n",
    "            self.load_images(images_path, self.items)"
   ]
  }
 ],
 "metadata": {
  "kernelspec": {
   "display_name": "python2",
   "language": "python",
   "name": "python2"
  },
  "language_info": {
   "codemirror_mode": {
    "name": "ipython",
    "version": 3
   },
   "file_extension": ".py",
   "mimetype": "text/x-python",
   "name": "python",
   "nbconvert_exporter": "python",
   "pygments_lexer": "ipython3",
   "version": "3.7.1"
  }
 },
 "nbformat": 4,
 "nbformat_minor": 2
}
