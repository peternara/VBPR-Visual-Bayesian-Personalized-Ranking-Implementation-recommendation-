{
 "cells": [
  {
   "cell_type": "markdown",
   "metadata": {},
   "source": [
    "网上关于这篇的资料比较少。先自己大致看一遍吧。照例。用三种颜色荧光笔和notebook记录一下疑问和重点。頑張って😀LOL<br>\n",
    "黄色记录疑问，蓝色记录文中的重点思路，绿色代表已经解决的疑问部分和已经理解的概念。notebook则记录啃论文的过程，和一些重点概念，优质的解释剪贴。"
   ]
  },
  {
   "cell_type": "markdown",
   "metadata": {},
   "source": [
    "## 1.Abstract\n",
    ">作者提出了一种可量化的分解模型，将**商品的视觉效果属性**整合到现有的预测用户观点的模型中，并将它用到了现实中的大型数据集。<br>\n",
    "这里的数据效果属性，主要是指产品的图片。<br>\n",
    "- 优势：\n",
    "    - 1.不仅可以更加精确的优化排序模型；\n",
    "    - 2.还可以帮助解决冷启动问题，从视觉维度，更好地评估影响用户行为的因素。"
   ]
  },
  {
   "cell_type": "markdown",
   "metadata": {},
   "source": [
    "## 2.Introduction\n",
    "这一部分的废话有点多==\n",
    ">- 先是review了一波现有的一些explicit和implicit的模型思路；以及一些其他的流行的模型因子；\n"
   ]
  },
  {
   "cell_type": "markdown",
   "metadata": {},
   "source": [
    "## 3.Related Work\n",
    ">- 作者先总结了MF最近的发展；\n",
    ">- 然后分别从point-wise和pairwise做了进一步说明；\n",
    ">- 还有一些其他模型，比如文本分析，分类系统，用户的人口统计学数据的方法\n",
    ">- 从视觉信号检索研究流行度的近年研究，来说明自己的优越性：\n",
    "    - 1.不是单纯的视觉检索，可以基于用户的个性化；\n",
    "    - 2.可以同时在模型并入除了视觉的其他因子\n",
    ">- **视觉特征提取**：Deep CNNs'的训练方法；从数据集提取特征，比其他的流行方法先进（高通用性；好的解释性）\n",
    "    \n",
    "Q&A保留地：\n",
    ">- **Q:** √依然不知道point-wise 和 pairwise的各自区别联系\n",
    "<br>**A:** 看了李航老师的intro to ranking之后，懂了\n",
    ">- **Q:** CNN?是神马，还有Deep CNNs？是一个东西嘛？研究一下\n",
    "<br>**A:** 这里只是说明了一下图片数据的来源是从CNN训练出来的，跟本文暂时没有太大的关系。\n"
   ]
  },
  {
   "cell_type": "markdown",
   "metadata": {},
   "source": [
    "## 4.VBPR⭐\n",
    "终于到了重点部分（备好头发QWQ\n",
    ">- 概要：先是规划方法；然后介绍了面向预测功能的矩阵分解；然后开发基于BPR的训练框架；\n",
    "### Problem Formulation（阐述问题\n",
    ">- 目标：为每个用户生成一个他们还未产生反馈的所有物品的个性化排序\n",
    ">- *排序的前提*：假定都是从implicit 反馈数据中学习\n",
    "### Preference Predictor（偏好预测器？\n",
    ">- 介绍了2011年Koren 提出的 preference predict 方法：$ x_{u,i} = \\alpha + \\beta_{u} +\\beta_{i} + \\lambda^T_u\\lambda_i $\n",
    ">- 本文将 rating dimensions拆解，变成visual factors 和 latent(non-visual) factors;\n",
    ">- 重点在 利用了 线性变换embedding Deep CNN feature的降维方法，解决传统[PCA降维](https://blog.csdn.net/HLBoy_happy/article/details/77146012)带来的损失；而实采用了embedding kernel线性变换的方法来降维。此处还不是太懂这里的矩阵线性变换，为什么要这样做；\n",
    ">- 这里有一篇解释协方差和相关系数，[回答](https://www.zhihu.com/question/20852004/answer/134902061)的也不错\n",
    "\n",
    "\n",
    "\n",
    "### Model Learning Using BPR（基于BPR的模型学习\n",
    "\n",
    "Q&A保留地：\n",
    ">- 我觉得还是有必要好好看一看什么是Ranking,还是要把李航老师写的那份论文好好看一看；\n"
   ]
  },
  {
   "cell_type": "markdown",
   "metadata": {},
   "source": [
    "偶然了解到的[Kaggle Kernels](https://www.kaggle.com/kernels)和谷歌，都有捋羊毛的机会（免费使用他们的GPU云计算平台在数据集上跑代码，而且往往速度都比CPU快很多~~"
   ]
  },
  {
   "cell_type": "markdown",
   "metadata": {},
   "source": [
    "※(题外话orz）记录一下：在deepcamp遇到的面试题目；假设有5个盒子，按下盒子，盒子会各以Pi{i=1,2,3,4,5}的概率吐出1元钱。现在有100次按所有盒子的机会，设计一种按盒子的方案，使得最后获得尽量最多的钱。"
   ]
  },
  {
   "cell_type": "markdown",
   "metadata": {},
   "source": [
    "## 5.模型复现 ##\n",
    "发现了这个论文作者@UCSD团队的Tutorial和Persentation，关于研究的每个步骤，包括搜集数据，清洗数据，分析数据，格式化数据，以及模型建立，tf运行分析，写的非常详细了。激动哭，连数据集都给准备好了<br>\n",
    "👉[DSE-capstone-sharknado/AdvancedBPR](https://github.com/DSE-capstone-sharknado/AdvancedBPR)<br>\n",
    "👉[Amazon数据集（包含Visual Features数据集）](http://jmcauley.ucsd.edu/data/amazon/)<br>\n",
    "还在Github上找到了一份相对简易版本👉[DX-Deluxia/VBPR](https://github.com/DX-Deluxia/VBPR)(主要简化了训练输入的数据格式，数据量)"
   ]
  }
 ],
 "metadata": {
  "kernelspec": {
   "display_name": "Python 3",
   "language": "python",
   "name": "python3"
  },
  "language_info": {
   "codemirror_mode": {
    "name": "ipython",
    "version": 3
   },
   "file_extension": ".py",
   "mimetype": "text/x-python",
   "name": "python",
   "nbconvert_exporter": "python",
   "pygments_lexer": "ipython3",
   "version": "3.7.1"
  }
 },
 "nbformat": 4,
 "nbformat_minor": 2
}
