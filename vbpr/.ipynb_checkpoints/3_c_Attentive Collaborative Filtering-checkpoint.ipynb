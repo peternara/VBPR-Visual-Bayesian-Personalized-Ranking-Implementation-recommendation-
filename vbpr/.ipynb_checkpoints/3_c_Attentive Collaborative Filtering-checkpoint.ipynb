{
 "cells": [
  {
   "cell_type": "markdown",
   "metadata": {},
   "source": [
    "## 3c 注意力机制的协同过滤\n",
    "📖**Attentive Collaborative Filtering: Multimedia Recommendation with Item- and Component-Level Attention**👉[link]()<br>\n",
    "🔑words: #Collaborative Filtering #Implicit Feedback #Attention #Multimedia Recommendation"
   ]
  },
  {
   "cell_type": "markdown",
   "metadata": {},
   "source": [
    "## 0 Abstract\n",
    ">可以将implicit feedback分为两个层面：item-level和component-level.<br>\n",
    "item层面是关注用户对某个特定物品的喜爱程度，component层面是关注用户喜爱特定物品的哪些具体特征。<br>\n",
    "这里提出了注意力机制的协同过滤模型：一种神经网络模型(什么是神经网络？先给自己挖个👇[小坑](#🕳1号坑.-neural-network神经网络))，由两个注意力模型组成:<br>\n",
    "- **component-level** based on content feature extraction network(eg.CNN)<br>\n",
    "- **item-level** which来量化用户对item的偏好程度。\n",
    "\n"
   ]
  },
  {
   "cell_type": "markdown",
   "metadata": {},
   "source": [
    "## 1 Introduction\n",
    ">目前很少模型在研究用户的的潜在偏好。尤其是分了在多媒体推荐中将用户的潜在反馈数据分为两层进行研究，而这些被大多数模型忽略了。\n",
    ">- **item-Level Implicit Level**: 需要把这些物品集根据注意力划分不同的权重\n",
    ">- **Component-Level Implicit Level**: 应该把用户对低层次的内容元素的偏好进行建模，比如在不同位置的图片特征，多种框架下的视频特征\n",
    ">- 两个level都用**神经网络**建模：这里提出了用多层神经网络构成的weighting function，并同时提取user和item的特点，进行item-层次反馈的建模。而item-层次中的内容特征，则是由多种元素用不同的attentive权重，生成的。component-level也是一个多层次神经网络，用户和内容元素特征作为输入。然后，所有这些attentive components一起组成一个内容那个特征向量，用来作为item-层次神经网络的输入之一。"
   ]
  },
  {
   "cell_type": "markdown",
   "metadata": {},
   "source": [
    "## 2 Related Work\n",
    "### 2.1 Implicit feedback问题\n",
    "这里主要分成negative和positive的，分别进行了讨论当前的问题和解决方法，以及解决方法的局限。\n",
    ">- 缺少负反馈数据的问题：大多数场景下只有正反馈数据，很难去判断用户是否对未反馈数据的真实反应。目前主要有抽样学习和全局学习两种方案。比起抽样学习，全局学习会将所有的impolicit data视为negative。前者更有效，后者会有更高的覆盖度。\n",
    ">- 对implicit中的all unobserved events划分权重：目前有user-oriented和 item-popularity-oriented等等，是certain nonuniform weighting schemes，但是这些模型有一个主要的局限，是很容易局限于作者的假设，而实际上很难在现实数据中有效。\n",
    ">- 对positive的反馈数据划分权重：也是这篇文章的一个创新处，提出了注意力机制来weight正面的implicit signal，基于user-item 交互矩阵和物品的内容特征\n",
    "### 2.2 Multimedia Recommendation 多媒体推荐\n",
    "现存的两大主要问题：稀疏性（sparsity of the data）和 冷启动问题(cold start scenario)。\n",
    ">- 面对稀疏性：有开发出hybird方法将context和多媒体物品本身内容用CF模型结合在一起，进行推荐。\n",
    ">- 冷启动问题：用来自多媒体内容的latent factor。\n",
    "### 2.3 Attention Mechanism 注意力机制\n"
   ]
  },
  {
   "cell_type": "markdown",
   "metadata": {},
   "source": [
    "## 3 Preliminaries 准备工作\n"
   ]
  },
  {
   "cell_type": "markdown",
   "metadata": {},
   "source": [
    "## 4 Attentive Collaborative Filtering"
   ]
  },
  {
   "cell_type": "markdown",
   "metadata": {},
   "source": [
    "## 5 Experiments"
   ]
  },
  {
   "cell_type": "markdown",
   "metadata": {},
   "source": [
    "## 6 Conlusions"
   ]
  },
  {
   "cell_type": "markdown",
   "metadata": {},
   "source": [
    "# ※附：\n",
    "### 🕳1号坑. neural network神经网络\n",
    "记得去看🏃‍<西瓜书>和<统计学习方法> "
   ]
  },
  {
   "cell_type": "markdown",
   "metadata": {},
   "source": [
    "### 🕳2号坑.Metric Factorization距离分解\n",
    "今天碰到了一个有意思的文章，先挖好一个坑吧，虽然现在连Matrix Fatorization矩阵分解都不一定很清楚=。=\n",
    ">旨在改进传统的基于矩阵分解的推荐系统算法，矩阵分解很大的一个问题就是不符合inequality property，这很大程度上阻碍了其表现。<br>\n",
    "本文提出新型的解决方案，**通过把用户和商品看作是一个低纬空间里面的点，然后用他们之间的距离来表示他们的距离。**通过类似于矩阵分解的 squared loss 就能很好的从已有的历史数据中学出用户和商品在这个低维空间的位置。 <br>\n",
    "**Metric Factorization 可以用在评分预测和排序两个经典的推荐场景，并且都取得了 state-of-the-art 的结果，**超过基于深度学习以及已有的 Metric learning 的推荐算法。<br>\n",
    "\n",
    "📖论文: **Metric Factorization: Recommendation beyond Matrix Factorization**👉[@paperweekly](https://www.paperweekly.site/papers/2002)<br>\n",
    "⌨源码👉[@github](https://github.com/cheungdaven/metricfactorization)<br>\n",
    "\n"
   ]
  },
  {
   "cell_type": "markdown",
   "metadata": {},
   "source": [
    "### 🕳3号坑. self-attention\n",
    ">本文提出了**一种基于 self-attention 的基于序列的推荐算法**，该算法是用 self-attention 从用户的交互记录中自己的去学习用的近期的兴趣，同时该模型也保留了用户的长久的兴趣。整个网络是在 metric learning 的框架下，是**第一次将 self-attention 和 metric learning的结合的尝试。** <br>\n",
    "实验结果表明，通过 self-attention，模型可以很好的学习用户的短期兴趣爱好， 并且能有效的提升模型效果。通过和近期的文章得对比发现，该方法可以在很大程度上改善序列化推荐的效果。\n",
    "\n",
    "📖论文👉[@paperweekly](https://www.paperweekly.site/papers/2246)"
   ]
  },
  {
   "cell_type": "markdown",
   "metadata": {},
   "source": [
    "### 4号坑. Explainable Recommendation: A Survey and New Perspectives\n",
    ">**本文是对“可解释性推荐系统”相关以及最新研究的调研总结，内容包括问题定义、问题历史、解决方案、相关应用和未来方向。**论文内容较为全面，对于刚接触这一方向或者已经从事搭配领域的业者学者有很好的借鉴意义，文章最后对于一些可以发展的方向的论述也很有启发意义。\n",
    "\n",
    "📖论文👉[@paperweekly](https://www.paperweekly.site/papers/2276)\n"
   ]
  },
  {
   "cell_type": "markdown",
   "metadata": {},
   "source": [
    "### 🕳5号坑.Multi-Pointer Co-Attention Networks for Recommendation\n",
    "> 本文是南洋理工大学发表于 KDD 2018 的工作。在预测用户对商品的评分时，如何学习用户和商品的表示至关重要。**本文基于协同注意力机制，在 review-level 和 word-level 对用户评论和与商品相关的评论进行选择，选择最重要的一条或若干条评论来对用户和商品进行表示。**\n",
    "\n",
    "📖论文链接👉[@paperweekly](https://www.paperweekly.site/papers/2340)<br>\n",
    "⌨源码链接👉[@github](https://github.com/vanzytay/KDD2018_MPCN)"
   ]
  }
 ],
 "metadata": {
  "kernelspec": {
   "display_name": "Python 3",
   "language": "python",
   "name": "python3"
  },
  "language_info": {
   "codemirror_mode": {
    "name": "ipython",
    "version": 3
   },
   "file_extension": ".py",
   "mimetype": "text/x-python",
   "name": "python",
   "nbconvert_exporter": "python",
   "pygments_lexer": "ipython3",
   "version": "3.7.1"
  }
 },
 "nbformat": 4,
 "nbformat_minor": 2
}
